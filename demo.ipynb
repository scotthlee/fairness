{
 "cells": [
  {
   "cell_type": "code",
   "execution_count": 1,
   "id": "2d3e2b8a",
   "metadata": {},
   "outputs": [],
   "source": [
    "import pandas as pd\n",
    "import numpy as np\n",
    "import scipy as sp\n",
    "import seaborn as sbn\n",
    "\n",
    "from sklearn.model_selection import train_test_split\n",
    "from sklearn.metrics import f1_score\n",
    "from sklearn.ensemble import RandomForestClassifier\n",
    "from matplotlib import pyplot as plt\n",
    "\n",
    "from balancers import PredictionBalancer\n",
    "import tools"
   ]
  },
  {
   "cell_type": "markdown",
   "id": "0319453c",
   "metadata": {},
   "source": [
    "First, let's load our data. Here we're using some COVID outbreak investigation data with information about symptoms, test results, and demographics for each person."
   ]
  },
  {
   "cell_type": "code",
   "execution_count": 11,
   "id": "1537fbb7",
   "metadata": {},
   "outputs": [
    {
     "data": {
      "text/html": [
       "<div>\n",
       "<style scoped>\n",
       "    .dataframe tbody tr th:only-of-type {\n",
       "        vertical-align: middle;\n",
       "    }\n",
       "\n",
       "    .dataframe tbody tr th {\n",
       "        vertical-align: top;\n",
       "    }\n",
       "\n",
       "    .dataframe thead th {\n",
       "        text-align: right;\n",
       "    }\n",
       "</style>\n",
       "<table border=\"1\" class=\"dataframe\">\n",
       "  <thead>\n",
       "    <tr style=\"text-align: right;\">\n",
       "      <th></th>\n",
       "      <th>ethnicity</th>\n",
       "      <th>race</th>\n",
       "      <th>sex</th>\n",
       "      <th>fever</th>\n",
       "      <th>cough</th>\n",
       "      <th>losstastesmell</th>\n",
       "      <th>rf_prob</th>\n",
       "      <th>case_def</th>\n",
       "      <th>pcr</th>\n",
       "    </tr>\n",
       "  </thead>\n",
       "  <tbody>\n",
       "    <tr>\n",
       "      <th>0</th>\n",
       "      <td>Hispanic or Latino</td>\n",
       "      <td>White</td>\n",
       "      <td>Male</td>\n",
       "      <td>0</td>\n",
       "      <td>0</td>\n",
       "      <td>0</td>\n",
       "      <td>0.027284</td>\n",
       "      <td>0</td>\n",
       "      <td>0</td>\n",
       "    </tr>\n",
       "    <tr>\n",
       "      <th>1</th>\n",
       "      <td>Not Hispanic or Latino</td>\n",
       "      <td>White</td>\n",
       "      <td>Male</td>\n",
       "      <td>0</td>\n",
       "      <td>0</td>\n",
       "      <td>0</td>\n",
       "      <td>0.027388</td>\n",
       "      <td>0</td>\n",
       "      <td>0</td>\n",
       "    </tr>\n",
       "    <tr>\n",
       "      <th>2</th>\n",
       "      <td>Not Hispanic or Latino</td>\n",
       "      <td>White</td>\n",
       "      <td>Male</td>\n",
       "      <td>0</td>\n",
       "      <td>0</td>\n",
       "      <td>0</td>\n",
       "      <td>0.026808</td>\n",
       "      <td>0</td>\n",
       "      <td>0</td>\n",
       "    </tr>\n",
       "    <tr>\n",
       "      <th>3</th>\n",
       "      <td>Not Hispanic or Latino</td>\n",
       "      <td>White</td>\n",
       "      <td>Male</td>\n",
       "      <td>0</td>\n",
       "      <td>0</td>\n",
       "      <td>0</td>\n",
       "      <td>0.027174</td>\n",
       "      <td>0</td>\n",
       "      <td>0</td>\n",
       "    </tr>\n",
       "    <tr>\n",
       "      <th>4</th>\n",
       "      <td>Not Hispanic or Latino</td>\n",
       "      <td>White</td>\n",
       "      <td>Male</td>\n",
       "      <td>0</td>\n",
       "      <td>0</td>\n",
       "      <td>0</td>\n",
       "      <td>0.026941</td>\n",
       "      <td>0</td>\n",
       "      <td>0</td>\n",
       "    </tr>\n",
       "  </tbody>\n",
       "</table>\n",
       "</div>"
      ],
      "text/plain": [
       "                ethnicity   race   sex  fever  cough  losstastesmell  \\\n",
       "0      Hispanic or Latino  White  Male      0      0               0   \n",
       "1  Not Hispanic or Latino  White  Male      0      0               0   \n",
       "2  Not Hispanic or Latino  White  Male      0      0               0   \n",
       "3  Not Hispanic or Latino  White  Male      0      0               0   \n",
       "4  Not Hispanic or Latino  White  Male      0      0               0   \n",
       "\n",
       "    rf_prob  case_def  pcr  \n",
       "0  0.027284         0    0  \n",
       "1  0.027388         0    0  \n",
       "2  0.026808         0    0  \n",
       "3  0.027174         0    0  \n",
       "4  0.026941         0    0  "
      ]
     },
     "execution_count": 11,
     "metadata": {},
     "output_type": "execute_result"
    }
   ],
   "source": [
    "records = pd.read_csv('records.csv')\n",
    "records.head()"
   ]
  },
  {
   "cell_type": "markdown",
   "id": "cc510ec7",
   "metadata": {},
   "source": [
    "For the following examples, we'll use race as our protected category. To keep things simple, we'll also limit the category to 3 groups: `Black`, `White`, and `Undisclosed`."
   ]
  },
  {
   "cell_type": "code",
   "execution_count": 3,
   "id": "8f8709f6",
   "metadata": {},
   "outputs": [],
   "source": [
    "race = records.race.values"
   ]
  },
  {
   "cell_type": "markdown",
   "id": "32879344",
   "metadata": {},
   "source": [
    "Next, we'll set the true outcome variable, `Y`. This is the thing we're trying to predict fairly across groups. Since PCR is the gold standard for SARS-CoV2 infection, that's what we'll use here."
   ]
  },
  {
   "cell_type": "code",
   "execution_count": 4,
   "id": "fac72654",
   "metadata": {},
   "outputs": [],
   "source": [
    "pcr = records.pcr.values"
   ]
  },
  {
   "cell_type": "markdown",
   "id": "12d8f967",
   "metadata": {},
   "source": [
    "We also need to come up with some (potentially unfair) predictors to predict test status. We'll start with a few binary symptom variables, along with a compound case definition developed for a different oubtreak investigation."
   ]
  },
  {
   "cell_type": "code",
   "execution_count": 5,
   "id": "c73fda53",
   "metadata": {},
   "outputs": [],
   "source": [
    "cough = records.cough.values\n",
    "fever = records.fever.values\n",
    "taste = records.losstastesmell.values\n",
    "case_def = records.case_def.values\n",
    "\n",
    "predictors = [cough, fever, taste, case_def]\n",
    "predictor_names = ['cough', 'fever', 'taste', 'case_def']"
   ]
  },
  {
   "cell_type": "markdown",
   "id": "a77c3d1b",
   "metadata": {},
   "source": [
    "Before stratifying by race, let's start by seeing how well these predict test status overall. Since it takes class imbalance into account (and our outcome is pretty rare here), we'll use F1-score to measure the predictors' performance."
   ]
  },
  {
   "cell_type": "code",
   "execution_count": 6,
   "id": "c0749134",
   "metadata": {},
   "outputs": [],
   "source": [
    "f1_scores = {predictor_names[i]:f1_score(pcr, p) for i, p in enumerate(predictors)}"
   ]
  },
  {
   "cell_type": "code",
   "execution_count": 7,
   "id": "489c8be7",
   "metadata": {},
   "outputs": [
    {
     "data": {
      "text/plain": [
       "{'cough': 0.32416787264833574,\n",
       " 'fever': 0.3442940038684719,\n",
       " 'taste': 0.3982494529540482,\n",
       " 'case_def': 0.4083175803402646}"
      ]
     },
     "execution_count": 7,
     "metadata": {},
     "output_type": "execute_result"
    }
   ],
   "source": [
    "f1_scores"
   ]
  },
  {
   "cell_type": "markdown",
   "id": "5872b8f7",
   "metadata": {},
   "source": [
    "All 3 symptoms predict pretty well, but the case definition did the best, so let's go with that. To see whether it performs fairly across groups, we can fire up an instance of the `PredictionBalancer`, which will show us the definition's true positive rate (`tpr`) and false positive rate (`fpr`) for each group."
   ]
  },
  {
   "cell_type": "code",
   "execution_count": 8,
   "id": "d303d771",
   "metadata": {},
   "outputs": [
    {
     "name": "stdout",
     "output_type": "stream",
     "text": [
      "\n",
      "Pre-adjustment group rates are \n",
      "\n",
      "                   group     fpr     tpr\n",
      "Black / African American    0.04   0.125\n",
      "             Undisclosed  0.0676  0.2838\n",
      "                   White   0.044  0.3284\n",
      "\n",
      "And loss is 0.1046\n",
      "\n"
     ]
    }
   ],
   "source": [
    "pb = PredictionBalancer(y=pcr, y_=fever, a=race)"
   ]
  },
  {
   "cell_type": "markdown",
   "id": "99b1a3e9",
   "metadata": {},
   "source": [
    "The overall error rate is only 10.5%, which is pretty good! We can see that there's some definite imbalance in performance between the groups, though, with sensitivity (`tpr`) for blacks being around than a third of what it is for whites. Let's use the `.adjust()` method to see if we can do any better."
   ]
  },
  {
   "cell_type": "code",
   "execution_count": 9,
   "id": "65867fb1",
   "metadata": {},
   "outputs": [
    {
     "data": {
      "text/plain": [
       "{'loss': 0.15828783552943404, 'roc': (0.04, 0.125)}"
      ]
     },
     "execution_count": 9,
     "metadata": {},
     "output_type": "execute_result"
    }
   ],
   "source": [
    "pb.adjust(summary=False)"
   ]
  },
  {
   "cell_type": "markdown",
   "id": "44484e1d",
   "metadata": {},
   "source": [
    "`.adjust()` returns the theoretical optima for loss (1 - accuracy, in this case) and the ROC coordinates after adjustment. With equalized odds, the best we can do for all groups is a FPR of 4% (very specific!) and TPR of 12.5% (not very sensitive).\n",
    "\n",
    "The adjuster can also print the ROC coordinates for the model's empirical predictions on the original dataset (normally it does this by default, but we've supressed it here to keep the presentation clean). "
   ]
  },
  {
   "cell_type": "code",
   "execution_count": 12,
   "id": "1180511a",
   "metadata": {},
   "outputs": [
    {
     "name": "stdout",
     "output_type": "stream",
     "text": [
      "\n",
      "Post-adjustment group rates are \n",
      "\n",
      "                   group     fpr     tpr\n",
      "Black / African American    0.04   0.125\n",
      "             Undisclosed  0.0425  0.0946\n",
      "                   White  0.0398  0.1225\n",
      "\n",
      "And loss is 0.1147\n",
      "\n"
     ]
    }
   ],
   "source": [
    "pb.summary(org=False)"
   ]
  },
  {
   "cell_type": "markdown",
   "id": "fd645323",
   "metadata": {},
   "source": [
    "Notice that the predicted rates are a bit different from the theoretical optima returned by `.adjust()`. The variability here comes from the `fpr` and `tpr` of the original predictor--the adjusted predictions come from randomly picking which of those original predictions to set to `1`, but since not all of those are perfect, we get a different blend of correct guesses each time, hence the movement in the realized rates. Despite this variability, the long-run averages for the rates will be the same, though, which is the best we can do with an oblivious predictor."
   ]
  },
  {
   "cell_type": "code",
   "execution_count": null,
   "id": "35c71d21",
   "metadata": {},
   "outputs": [],
   "source": []
  }
 ],
 "metadata": {
  "kernelspec": {
   "display_name": "Python 3",
   "language": "python",
   "name": "python3"
  },
  "language_info": {
   "codemirror_mode": {
    "name": "ipython",
    "version": 3
   },
   "file_extension": ".py",
   "mimetype": "text/x-python",
   "name": "python",
   "nbconvert_exporter": "python",
   "pygments_lexer": "ipython3",
   "version": "3.8.6"
  }
 },
 "nbformat": 4,
 "nbformat_minor": 5
}
