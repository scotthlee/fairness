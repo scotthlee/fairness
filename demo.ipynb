{
 "cells": [
  {
   "cell_type": "code",
   "execution_count": 1,
   "id": "2d3e2b8a",
   "metadata": {},
   "outputs": [],
   "source": [
    "import pandas as pd\n",
    "import numpy as np\n",
    "import scipy as sp\n",
    "import seaborn as sbn\n",
    "\n",
    "from sklearn.model_selection import train_test_split\n",
    "from sklearn.ensemble import RandomForestClassifier\n",
    "from matplotlib import pyplot as plt\n",
    "\n",
    "from balancers import PredictionBalancer\n",
    "import tools"
   ]
  },
  {
   "cell_type": "markdown",
   "id": "0319453c",
   "metadata": {},
   "source": [
    "First, let's load our data. Here we're using some COVID outbreak investigation data with information about symptoms, test results, and demographics for each person."
   ]
  },
  {
   "cell_type": "code",
   "execution_count": 2,
   "id": "1537fbb7",
   "metadata": {},
   "outputs": [],
   "source": [
    "records = pd.read_csv('records.csv')"
   ]
  },
  {
   "cell_type": "markdown",
   "id": "cc510ec7",
   "metadata": {},
   "source": [
    "Race will be our protected category. To keep things simple, we'll limit the category to 4 groups: `Black`, `White`, `Asian`, and `Undisclosed`."
   ]
  },
  {
   "cell_type": "code",
   "execution_count": 3,
   "id": "8f8709f6",
   "metadata": {},
   "outputs": [],
   "source": [
    "records = records[(records.race == 'Black / African American') |\n",
    "                  (records.race == 'White') |\n",
    "                  (records.race == 'Asian') |\n",
    "                  (records.race == 'Undisclosed')]\n",
    "race = records.race.values"
   ]
  },
  {
   "cell_type": "markdown",
   "id": "32879344",
   "metadata": {},
   "source": [
    "Next, we'll set the true outcome variable, Y. This is the thing we're trying to predict fairly across groups. Since PCR is the gold standard for SARS-CoV2 infection, that's what we'll use here."
   ]
  },
  {
   "cell_type": "code",
   "execution_count": 4,
   "id": "fac72654",
   "metadata": {},
   "outputs": [],
   "source": [
    "pcr = records.pcr.values"
   ]
  },
  {
   "cell_type": "markdown",
   "id": "12d8f967",
   "metadata": {},
   "source": [
    "We also need to come up with some (potentially unfair) predictors to predict test status. We'll start with a few binary symptom variables."
   ]
  },
  {
   "cell_type": "code",
   "execution_count": 5,
   "id": "c73fda53",
   "metadata": {},
   "outputs": [],
   "source": [
    "cough = records.cough.values\n",
    "fever = records.fever.values\n",
    "taste = records.losstastesmell.values\n",
    "\n",
    "symptoms = [cough, fever, taste]\n",
    "symptom_names = ['cough', 'fever', 'taste']"
   ]
  },
  {
   "cell_type": "markdown",
   "id": "a77c3d1b",
   "metadata": {},
   "source": [
    "Before stratifying by race, let's start by seeing how well these predict test status overall. `tools.clf_metrics()` produces lots of nice info, so let's use that."
   ]
  },
  {
   "cell_type": "code",
   "execution_count": 6,
   "id": "c0749134",
   "metadata": {},
   "outputs": [],
   "source": [
    "symptom_stats = [tools.clf_metrics(true=pcr, pred=s, mod_name=symptom_names[i]) for i, s in enumerate(symptoms)]\n",
    "symptom_stats = pd.concat(symptom_stats, axis=0)"
   ]
  },
  {
   "cell_type": "code",
   "execution_count": 7,
   "id": "489c8be7",
   "metadata": {},
   "outputs": [
    {
     "data": {
      "text/html": [
       "<div>\n",
       "<style scoped>\n",
       "    .dataframe tbody tr th:only-of-type {\n",
       "        vertical-align: middle;\n",
       "    }\n",
       "\n",
       "    .dataframe tbody tr th {\n",
       "        vertical-align: top;\n",
       "    }\n",
       "\n",
       "    .dataframe thead th {\n",
       "        text-align: right;\n",
       "    }\n",
       "</style>\n",
       "<table border=\"1\" class=\"dataframe\">\n",
       "  <thead>\n",
       "    <tr style=\"text-align: right;\">\n",
       "      <th></th>\n",
       "      <th>tp</th>\n",
       "      <th>fp</th>\n",
       "      <th>tn</th>\n",
       "      <th>fn</th>\n",
       "      <th>sens</th>\n",
       "      <th>spec</th>\n",
       "      <th>ppv</th>\n",
       "      <th>npv</th>\n",
       "      <th>j</th>\n",
       "      <th>f1</th>\n",
       "      <th>mcc</th>\n",
       "      <th>brier</th>\n",
       "      <th>auc</th>\n",
       "      <th>ap</th>\n",
       "      <th>true_prev</th>\n",
       "      <th>pred_prev</th>\n",
       "      <th>prev_diff</th>\n",
       "      <th>rel_prev_diff</th>\n",
       "      <th>model</th>\n",
       "    </tr>\n",
       "  </thead>\n",
       "  <tbody>\n",
       "    <tr>\n",
       "      <th>0</th>\n",
       "      <td>114.0</td>\n",
       "      <td>301.0</td>\n",
       "      <td>2729.0</td>\n",
       "      <td>182.0</td>\n",
       "      <td>0.3851</td>\n",
       "      <td>0.9007</td>\n",
       "      <td>0.2747</td>\n",
       "      <td>0.9375</td>\n",
       "      <td>0.2858</td>\n",
       "      <td>0.3207</td>\n",
       "      <td>0.246250</td>\n",
       "      <td>0.1452</td>\n",
       "      <td>0</td>\n",
       "      <td>0</td>\n",
       "      <td>296.0</td>\n",
       "      <td>415.0</td>\n",
       "      <td>119.0</td>\n",
       "      <td>0.4020</td>\n",
       "      <td>cough</td>\n",
       "    </tr>\n",
       "    <tr>\n",
       "      <th>0</th>\n",
       "      <td>90.0</td>\n",
       "      <td>144.0</td>\n",
       "      <td>2886.0</td>\n",
       "      <td>206.0</td>\n",
       "      <td>0.3041</td>\n",
       "      <td>0.9525</td>\n",
       "      <td>0.3846</td>\n",
       "      <td>0.9334</td>\n",
       "      <td>0.2566</td>\n",
       "      <td>0.3396</td>\n",
       "      <td>0.285612</td>\n",
       "      <td>0.1052</td>\n",
       "      <td>0</td>\n",
       "      <td>0</td>\n",
       "      <td>296.0</td>\n",
       "      <td>234.0</td>\n",
       "      <td>-62.0</td>\n",
       "      <td>-0.2095</td>\n",
       "      <td>fever</td>\n",
       "    </tr>\n",
       "    <tr>\n",
       "      <th>0</th>\n",
       "      <td>91.0</td>\n",
       "      <td>80.0</td>\n",
       "      <td>2950.0</td>\n",
       "      <td>205.0</td>\n",
       "      <td>0.3074</td>\n",
       "      <td>0.9736</td>\n",
       "      <td>0.5322</td>\n",
       "      <td>0.9350</td>\n",
       "      <td>0.2810</td>\n",
       "      <td>0.3897</td>\n",
       "      <td>0.362345</td>\n",
       "      <td>0.0857</td>\n",
       "      <td>0</td>\n",
       "      <td>0</td>\n",
       "      <td>296.0</td>\n",
       "      <td>171.0</td>\n",
       "      <td>-125.0</td>\n",
       "      <td>-0.4223</td>\n",
       "      <td>taste</td>\n",
       "    </tr>\n",
       "  </tbody>\n",
       "</table>\n",
       "</div>"
      ],
      "text/plain": [
       "      tp     fp      tn     fn    sens    spec     ppv     npv       j  \\\n",
       "0  114.0  301.0  2729.0  182.0  0.3851  0.9007  0.2747  0.9375  0.2858   \n",
       "0   90.0  144.0  2886.0  206.0  0.3041  0.9525  0.3846  0.9334  0.2566   \n",
       "0   91.0   80.0  2950.0  205.0  0.3074  0.9736  0.5322  0.9350  0.2810   \n",
       "\n",
       "       f1       mcc   brier  auc  ap  true_prev  pred_prev  prev_diff  \\\n",
       "0  0.3207  0.246250  0.1452    0   0      296.0      415.0      119.0   \n",
       "0  0.3396  0.285612  0.1052    0   0      296.0      234.0      -62.0   \n",
       "0  0.3897  0.362345  0.0857    0   0      296.0      171.0     -125.0   \n",
       "\n",
       "   rel_prev_diff  model  \n",
       "0         0.4020  cough  \n",
       "0        -0.2095  fever  \n",
       "0        -0.4223  taste  "
      ]
     },
     "execution_count": 7,
     "metadata": {},
     "output_type": "execute_result"
    }
   ],
   "source": [
    "symptom_stats"
   ]
  },
  {
   "cell_type": "markdown",
   "id": "5872b8f7",
   "metadata": {},
   "source": [
    "All 3 symptoms predict pretty well. Loss of taste and/or smell is strong on both Youden's J and F1-score, though, so let's say it's the best overall."
   ]
  },
  {
   "cell_type": "code",
   "execution_count": 8,
   "id": "2d62c79a",
   "metadata": {},
   "outputs": [],
   "source": [
    "pb = PredictionBalancer()"
   ]
  }
 ],
 "metadata": {
  "kernelspec": {
   "display_name": "Python 3",
   "language": "python",
   "name": "python3"
  },
  "language_info": {
   "codemirror_mode": {
    "name": "ipython",
    "version": 3
   },
   "file_extension": ".py",
   "mimetype": "text/x-python",
   "name": "python",
   "nbconvert_exporter": "python",
   "pygments_lexer": "ipython3",
   "version": "3.8.6"
  }
 },
 "nbformat": 4,
 "nbformat_minor": 5
}
