{
 "cells": [
  {
   "cell_type": "code",
   "execution_count": 1,
   "id": "2d3e2b8a",
   "metadata": {},
   "outputs": [],
   "source": [
    "import pandas as pd\n",
    "import numpy as np\n",
    "import scipy as sp\n",
    "import seaborn as sbn\n",
    "\n",
    "from sklearn.model_selection import train_test_split\n",
    "from sklearn.metrics import f1_score\n",
    "from sklearn.ensemble import RandomForestClassifier\n",
    "from matplotlib import pyplot as plt\n",
    "\n",
    "from balancers import PredictionBalancer\n",
    "import tools"
   ]
  },
  {
   "cell_type": "markdown",
   "id": "0319453c",
   "metadata": {},
   "source": [
    "First, let's load our data. Here we're using some COVID outbreak investigation data with information about symptoms, test results, and demographics for each person."
   ]
  },
  {
   "cell_type": "code",
   "execution_count": 2,
   "id": "1537fbb7",
   "metadata": {},
   "outputs": [],
   "source": [
    "records = pd.read_csv('records.csv')"
   ]
  },
  {
   "cell_type": "markdown",
   "id": "cc510ec7",
   "metadata": {},
   "source": [
    "Race will be our protected category. To keep things simple, we'll limit the category to 4 groups: `Black`, `White`, `Asian`, and `Undisclosed`."
   ]
  },
  {
   "cell_type": "code",
   "execution_count": 3,
   "id": "8f8709f6",
   "metadata": {},
   "outputs": [],
   "source": [
    "records = records[(records.race == 'Black / African American') |\n",
    "                  (records.race == 'White') |\n",
    "                  (records.race == 'Asian') |\n",
    "                  (records.race == 'Undisclosed')]\n",
    "race = records.race.values"
   ]
  },
  {
   "cell_type": "markdown",
   "id": "32879344",
   "metadata": {},
   "source": [
    "Next, we'll set the true outcome variable, `Y`. This is the thing we're trying to predict fairly across groups. Since PCR is the gold standard for SARS-CoV2 infection, that's what we'll use here."
   ]
  },
  {
   "cell_type": "code",
   "execution_count": 4,
   "id": "fac72654",
   "metadata": {},
   "outputs": [],
   "source": [
    "pcr = records.pcr.values"
   ]
  },
  {
   "cell_type": "markdown",
   "id": "12d8f967",
   "metadata": {},
   "source": [
    "We also need to come up with some (potentially unfair) predictors to predict test status. We'll start with a few binary symptom variables."
   ]
  },
  {
   "cell_type": "code",
   "execution_count": 5,
   "id": "c73fda53",
   "metadata": {},
   "outputs": [],
   "source": [
    "cough = records.cough.values\n",
    "fever = records.fever.values\n",
    "taste = records.losstastesmell.values\n",
    "\n",
    "symptoms = [cough, fever, taste]\n",
    "symptom_names = ['cough', 'fever', 'taste']"
   ]
  },
  {
   "cell_type": "markdown",
   "id": "a77c3d1b",
   "metadata": {},
   "source": [
    "Before stratifying by race, let's start by seeing how well these predict test status overall. `tools.clf_metrics()` produces lots of nice info, so let's use that."
   ]
  },
  {
   "cell_type": "code",
   "execution_count": 6,
   "id": "c0749134",
   "metadata": {},
   "outputs": [],
   "source": [
    "f1_scores = {symptom_names[i]:f1_score(pcr, s) for i, s in enumerate(symptoms)}"
   ]
  },
  {
   "cell_type": "code",
   "execution_count": 7,
   "id": "489c8be7",
   "metadata": {},
   "outputs": [
    {
     "data": {
      "text/plain": [
       "{'cough': 0.32067510548523204,\n",
       " 'fever': 0.33962264150943394,\n",
       " 'taste': 0.38972162740899363}"
      ]
     },
     "execution_count": 7,
     "metadata": {},
     "output_type": "execute_result"
    }
   ],
   "source": [
    "f1_scores"
   ]
  },
  {
   "cell_type": "markdown",
   "id": "5872b8f7",
   "metadata": {},
   "source": [
    "All 3 symptoms predict pretty well. Loss of taste and/or smell is strong on both Youden's J and F1-score, though, so let's say it's the best overall. Now we can use an instance of the `PredictionBalancer` to whether it performs fairly across groups."
   ]
  },
  {
   "cell_type": "code",
   "execution_count": 8,
   "id": "d303d771",
   "metadata": {},
   "outputs": [
    {
     "name": "stdout",
     "output_type": "stream",
     "text": [
      "\n",
      "Pre-adjustment group rates are \n",
      "\n",
      "                   group     fpr     tpr\n",
      "                   Asian   0.027     0.1\n",
      "Black / African American    0.04   0.125\n",
      "             Undisclosed  0.0676  0.2838\n",
      "                   White   0.044  0.3284\n",
      "\n",
      "And loss is 0.1052\n",
      "\n"
     ]
    }
   ],
   "source": [
    "pb = PredictionBalancer(y=pcr, y_=fever, a=race)"
   ]
  },
  {
   "cell_type": "markdown",
   "id": "99b1a3e9",
   "metadata": {},
   "source": [
    "We can see that there's some definite imbalance between the groups, with fever's sensitivity (`tpr`) for both blacks and Asians being less than a third of what it is for whites. Let's use the `.adjust()` method to see if we can balance those out."
   ]
  },
  {
   "cell_type": "code",
   "execution_count": 9,
   "id": "65867fb1",
   "metadata": {},
   "outputs": [
    {
     "name": "stdout",
     "output_type": "stream",
     "text": [
      "\n",
      "Post-adjustment group rates are \n",
      "\n",
      "                   group     fpr     tpr\n",
      "                   Asian   0.027     0.1\n",
      "Black / African American  0.0267   0.125\n",
      "             Undisclosed  0.0405  0.0541\n",
      "                   White  0.0313  0.1324\n",
      "\n",
      "And loss is 0.1088\n",
      "\n"
     ]
    },
    {
     "data": {
      "text/plain": [
       "{'loss': 0.15803140554710288, 'roc': (0.0341, 0.1066)}"
      ]
     },
     "execution_count": 9,
     "metadata": {},
     "output_type": "execute_result"
    }
   ],
   "source": [
    "pb.adjust()"
   ]
  },
  {
   "cell_type": "markdown",
   "id": "44484e1d",
   "metadata": {},
   "source": [
    "`pb.adjust()` returns the theoretical optima for loss (1 - accuracy, in this case) and the ROC coordinates after adjustment. With equalized odds, the best we can do for all groups is a FPR of 3% (very specific!) and TPR of 10% (not very sensitive).\n",
    "\n",
    "By default, the adjuster also prints the ROC coordinates for the model's empirical predictions on the original dataset. Because of the sampling used to generate the predictions, these will often vary from the theoretical optima, but their long-run averages will be correct."
   ]
  },
  {
   "cell_type": "code",
   "execution_count": 10,
   "id": "1180511a",
   "metadata": {},
   "outputs": [
    {
     "data": {
      "image/png": "[encoded data removed]",
      "text/plain": [
       "<Figure size 432x288 with 1 Axes>"
      ]
     },
     "metadata": {
      "needs_background": "light"
     },
     "output_type": "display_data"
    }
   ],
   "source": [
    "pb.plot()"
   ]
  },
  {
   "cell_type": "code",
   "execution_count": null,
   "id": "36a34f16",
   "metadata": {},
   "outputs": [],
   "source": []
  }
 ],
 "metadata": {
  "kernelspec": {
   "display_name": "Python 3",
   "language": "python",
   "name": "python3"
  },
  "language_info": {
   "codemirror_mode": {
    "name": "ipython",
    "version": 3
   },
   "file_extension": ".py",
   "mimetype": "text/x-python",
   "name": "python",
   "nbconvert_exporter": "python",
   "pygments_lexer": "ipython3",
   "version": "3.8.6"
  }
 },
 "nbformat": 4,
 "nbformat_minor": 5
}
